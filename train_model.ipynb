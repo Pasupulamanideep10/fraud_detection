{
 "cells": [
  {
   "cell_type": "markdown",
   "id": "c71d55f8",
   "metadata": {},
   "source": [
    "# Fraud Detection Model Training\n",
    "\n",
    "This notebook loads the dataset, preprocesses it, trains a Random Forest model, analyzes feature importance, and saves the model and feature columns for deployment. Visualizations are included for data exploration and feature importance."
   ]
  },
  {
   "cell_type": "code",
   "execution_count": 1,
   "id": "eae19330",
   "metadata": {},
   "outputs": [],
   "source": [
    "# Imports\n",
    "import pandas as pd\n",
    "import numpy as np\n",
    "import matplotlib.pyplot as plt\n",
    "import seaborn as sns\n",
    "from sklearn.ensemble import RandomForestClassifier\n",
    "from sklearn.model_selection import train_test_split\n",
    "from sklearn.metrics import classification_report\n",
    "import pickle\n",
    "import os"
   ]
  },
  {
   "cell_type": "markdown",
   "id": "2572258b",
   "metadata": {},
   "source": [
    "## 1. Load Data"
   ]
  },
  {
   "cell_type": "code",
   "execution_count": 2,
   "id": "df9e8f76",
   "metadata": {},
   "outputs": [
    {
     "name": "stdout",
     "output_type": "stream",
     "text": [
      "Initial shape: (535178, 10)\n"
     ]
    },
    {
     "data": {
      "text/html": [
       "<div>\n",
       "<style scoped>\n",
       "    .dataframe tbody tr th:only-of-type {\n",
       "        vertical-align: middle;\n",
       "    }\n",
       "\n",
       "    .dataframe tbody tr th {\n",
       "        vertical-align: top;\n",
       "    }\n",
       "\n",
       "    .dataframe thead th {\n",
       "        text-align: right;\n",
       "    }\n",
       "</style>\n",
       "<table border=\"1\" class=\"dataframe\">\n",
       "  <thead>\n",
       "    <tr style=\"text-align: right;\">\n",
       "      <th></th>\n",
       "      <th>step</th>\n",
       "      <th>customer</th>\n",
       "      <th>age</th>\n",
       "      <th>gender</th>\n",
       "      <th>zipcodeOri</th>\n",
       "      <th>merchant</th>\n",
       "      <th>zipMerchant</th>\n",
       "      <th>category</th>\n",
       "      <th>amount</th>\n",
       "      <th>fraud</th>\n",
       "    </tr>\n",
       "  </thead>\n",
       "  <tbody>\n",
       "    <tr>\n",
       "      <th>0</th>\n",
       "      <td>11</td>\n",
       "      <td>'C1760492708'</td>\n",
       "      <td>'1'</td>\n",
       "      <td>'F'</td>\n",
       "      <td>'28007'</td>\n",
       "      <td>'M1823072687'</td>\n",
       "      <td>'28007'</td>\n",
       "      <td>'es_transportation'</td>\n",
       "      <td>52.35</td>\n",
       "      <td>0</td>\n",
       "    </tr>\n",
       "    <tr>\n",
       "      <th>1</th>\n",
       "      <td>172</td>\n",
       "      <td>'C1222389110'</td>\n",
       "      <td>'3'</td>\n",
       "      <td>'M'</td>\n",
       "      <td>'28007'</td>\n",
       "      <td>'M1823072687'</td>\n",
       "      <td>'28007'</td>\n",
       "      <td>'es_transportation'</td>\n",
       "      <td>14.75</td>\n",
       "      <td>0</td>\n",
       "    </tr>\n",
       "    <tr>\n",
       "      <th>2</th>\n",
       "      <td>106</td>\n",
       "      <td>'C879949041'</td>\n",
       "      <td>'3'</td>\n",
       "      <td>'F'</td>\n",
       "      <td>'28007'</td>\n",
       "      <td>'M1823072687'</td>\n",
       "      <td>'28007'</td>\n",
       "      <td>'es_transportation'</td>\n",
       "      <td>3.73</td>\n",
       "      <td>0</td>\n",
       "    </tr>\n",
       "    <tr>\n",
       "      <th>3</th>\n",
       "      <td>86</td>\n",
       "      <td>'C409740988'</td>\n",
       "      <td>'5'</td>\n",
       "      <td>'M'</td>\n",
       "      <td>'28007'</td>\n",
       "      <td>'M1823072687'</td>\n",
       "      <td>'28007'</td>\n",
       "      <td>'es_transportation'</td>\n",
       "      <td>61.42</td>\n",
       "      <td>0</td>\n",
       "    </tr>\n",
       "    <tr>\n",
       "      <th>4</th>\n",
       "      <td>152</td>\n",
       "      <td>'C671449181'</td>\n",
       "      <td>'3'</td>\n",
       "      <td>'F'</td>\n",
       "      <td>'28007'</td>\n",
       "      <td>'M692898500'</td>\n",
       "      <td>'28007'</td>\n",
       "      <td>'es_health'</td>\n",
       "      <td>9.05</td>\n",
       "      <td>0</td>\n",
       "    </tr>\n",
       "  </tbody>\n",
       "</table>\n",
       "</div>"
      ],
      "text/plain": [
       "   step       customer  age gender zipcodeOri       merchant zipMerchant  \\\n",
       "0    11  'C1760492708'  '1'    'F'    '28007'  'M1823072687'     '28007'   \n",
       "1   172  'C1222389110'  '3'    'M'    '28007'  'M1823072687'     '28007'   \n",
       "2   106   'C879949041'  '3'    'F'    '28007'  'M1823072687'     '28007'   \n",
       "3    86   'C409740988'  '5'    'M'    '28007'  'M1823072687'     '28007'   \n",
       "4   152   'C671449181'  '3'    'F'    '28007'   'M692898500'     '28007'   \n",
       "\n",
       "              category  amount  fraud  \n",
       "0  'es_transportation'   52.35      0  \n",
       "1  'es_transportation'   14.75      0  \n",
       "2  'es_transportation'    3.73      0  \n",
       "3  'es_transportation'   61.42      0  \n",
       "4          'es_health'    9.05      0  "
      ]
     },
     "execution_count": 2,
     "metadata": {},
     "output_type": "execute_result"
    }
   ],
   "source": [
    "df = pd.read_csv('Dataset.csv')\n",
    "print('Initial shape:', df.shape)\n",
    "df.head()"
   ]
  },
  {
   "cell_type": "markdown",
   "id": "6473ca66",
   "metadata": {},
   "source": [
    "## 2. Data Cleaning & Preprocessing"
   ]
  },
  {
   "cell_type": "code",
   "execution_count": 3,
   "id": "6adbdbab",
   "metadata": {},
   "outputs": [
    {
     "name": "stderr",
     "output_type": "stream",
     "text": [
      "c:\\Users\\gudde\\AppData\\Local\\Programs\\Python\\Python311\\Lib\\site-packages\\numpy\\lib\\nanfunctions.py:1215: RuntimeWarning: Mean of empty slice\n",
      "  return np.nanmean(a, axis, out=out, keepdims=keepdims)\n"
     ]
    }
   ],
   "source": [
    "# Clean columns\n",
    "df.columns = df.columns.str.strip()\n",
    "df.drop(['zipcodeOri', 'zipMerchant', 'customer'], axis=1, inplace=True)\n",
    "\n",
    "# Fill missing values\n",
    "df['gender'] = df['gender'].replace(['E', 'U'], np.nan)\n",
    "df['gender'] = df['gender'].map({'M': 1, 'F': 0})\n",
    "gender_mode = df['gender'].mode()[0] if not df['gender'].mode().empty else 1\n",
    "df['gender'] = df['gender'].fillna(gender_mode)\n",
    "\n",
    "for col in ['step', 'age', 'amount']:\n",
    "    df[col] = pd.to_numeric(df[col], errors='coerce')\n",
    "    median = df[col].median()\n",
    "    df[col] = df[col].fillna(median)\n",
    "\n",
    "df['merchant'] = df['merchant'].fillna('unknown')\n",
    "df['category'] = df['category'].fillna('unknown')"
   ]
  },
  {
   "cell_type": "markdown",
   "id": "706da543",
   "metadata": {},
   "source": [
    "### Class Distribution"
   ]
  },
  {
   "cell_type": "code",
   "execution_count": null,
   "id": "7ebb2991",
   "metadata": {},
   "outputs": [],
   "source": [
    "plt.figure(figsize=(5,3))\n",
    "sns.countplot(x='fraud', data=df)\n",
    "plt.title('Class Distribution (fraud)')\n",
    "plt.show()"
   ]
  },
  {
   "cell_type": "markdown",
   "id": "41bd93f9",
   "metadata": {},
   "source": [
    "## 3. One-hot Encoding"
   ]
  },
  {
   "cell_type": "code",
   "execution_count": null,
   "id": "42ab3751",
   "metadata": {},
   "outputs": [],
   "source": [
    "df = pd.get_dummies(df, columns=['merchant', 'category'], drop_first=True)\n",
    "df.head()"
   ]
  },
  {
   "cell_type": "markdown",
   "id": "7902924f",
   "metadata": {},
   "source": [
    "## 4. Train/Test Split"
   ]
  },
  {
   "cell_type": "code",
   "execution_count": null,
   "id": "3f07ced0",
   "metadata": {},
   "outputs": [],
   "source": [
    "X = df.drop('fraud', axis=1)\n",
    "y = df['fraud']\n",
    "X_train, X_test, y_train, y_test = train_test_split(X, y, test_size=0.2, random_state=42)\n",
    "print('Train shape:', X_train.shape, 'Test shape:', X_test.shape)"
   ]
  },
  {
   "cell_type": "markdown",
   "id": "9e399d32",
   "metadata": {},
   "source": [
    "## 5. Train Random Forest Model"
   ]
  },
  {
   "cell_type": "code",
   "execution_count": null,
   "id": "73a06212",
   "metadata": {},
   "outputs": [],
   "source": [
    "rf = RandomForestClassifier(n_estimators=100, random_state=42)\n",
    "rf.fit(X_train, y_train)\n",
    "y_pred = rf.predict(X_test)\n",
    "print(classification_report(y_test, y_pred))"
   ]
  },
  {
   "cell_type": "markdown",
   "id": "be27945b",
   "metadata": {},
   "source": [
    "## 6. Feature Importance"
   ]
  },
  {
   "cell_type": "code",
   "execution_count": null,
   "id": "2ded9c5a",
   "metadata": {},
   "outputs": [],
   "source": [
    "importances = rf.feature_importances_\n",
    "feature_names = X.columns\n",
    "importance_df = pd.DataFrame({'feature': feature_names, 'importance': importances})\n",
    "importance_df = importance_df.sort_values(by='importance', ascending=False)\n",
    "importance_df.head(10)"
   ]
  },
  {
   "cell_type": "code",
   "execution_count": null,
   "id": "70d5583d",
   "metadata": {},
   "outputs": [],
   "source": [
    "# Plot feature importances\n",
    "plt.figure(figsize=(10,5))\n",
    "sns.barplot(x='importance', y='feature', data=importance_df.head(15))\n",
    "plt.title('Top 15 Feature Importances')\n",
    "plt.tight_layout()\n",
    "plt.show()"
   ]
  },
  {
   "cell_type": "markdown",
   "id": "b95f8c41",
   "metadata": {},
   "source": [
    "## 7. Select Important Features and Retrain"
   ]
  },
  {
   "cell_type": "code",
   "execution_count": null,
   "id": "c32642e1",
   "metadata": {},
   "outputs": [],
   "source": [
    "# Keep features with >1% importance, or all if all are important\n",
    "threshold = 0.01\n",
    "selected_features = importance_df[importance_df['importance'] > threshold]['feature'].tolist()\n",
    "if len(selected_features) == 0:\n",
    "    selected_features = feature_names.tolist()\n",
    "print('Selected features:', selected_features)\n",
    "\n",
    "X_selected = X[selected_features]\n",
    "X_train_sel, X_test_sel, y_train_sel, y_test_sel = train_test_split(X_selected, y, test_size=0.2, random_state=42)\n",
    "model = RandomForestClassifier(n_estimators=100, random_state=42)\n",
    "model.fit(X_train_sel, y_train_sel)\n",
    "print(classification_report(y_test_sel, model.predict(X_test_sel)))"
   ]
  },
  {
   "cell_type": "markdown",
   "id": "28f592c4",
   "metadata": {},
   "source": [
    "## 8. Save Model and Feature Columns"
   ]
  },
  {
   "cell_type": "code",
   "execution_count": null,
   "id": "1f018b0b",
   "metadata": {},
   "outputs": [],
   "source": [
    "os.makedirs('model', exist_ok=True)\n",
    "with open('model/fraud_model.pkl', 'wb') as f:\n",
    "    pickle.dump(model, f)\n",
    "with open('model/feature_columns.pkl', 'wb') as f:\n",
    "    pickle.dump(selected_features, f)\n",
    "print('Model and feature columns saved!')"
   ]
  }
 ],
 "metadata": {
  "kernelspec": {
   "display_name": "Python 3",
   "language": "python",
   "name": "python3"
  },
  "language_info": {
   "codemirror_mode": {
    "name": "ipython",
    "version": 3
   },
   "file_extension": ".py",
   "mimetype": "text/x-python",
   "name": "python",
   "nbconvert_exporter": "python",
   "pygments_lexer": "ipython3",
   "version": "3.11.5"
  }
 },
 "nbformat": 4,
 "nbformat_minor": 5
}
