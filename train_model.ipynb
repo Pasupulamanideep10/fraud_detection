{
 "cells": [
  {
   "cell_type": "markdown",
   "id": "c71d55f8",
   "metadata": {},
   "source": [
    "# Fraud Detection Model Training\n",
    "\n",
    "This notebook loads the dataset, preprocesses it, trains a Random Forest model, analyzes feature importance, and saves the model and feature columns for deployment. Visualizations are included for data exploration and feature importance."
   ]
  },
  {
   "cell_type": "code",
   "execution_count": 1,
   "id": "eae19330",
   "metadata": {},
   "outputs": [],
   "source": [
    "# Imports\n",
    "import pandas as pd\n",
    "import numpy as np\n",
    "import matplotlib.pyplot as plt\n",
    "import seaborn as sns\n",
    "from sklearn.ensemble import RandomForestClassifier\n",
    "from sklearn.model_selection import train_test_split\n",
    "from sklearn.metrics import classification_report\n",
    "import pickle\n",
    "import os"
   ]
  },
  {
   "cell_type": "markdown",
   "id": "2572258b",
   "metadata": {},
   "source": [
    "## 1. Load Data"
   ]
  },
  {
   "cell_type": "code",
   "execution_count": 2,
   "id": "df9e8f76",
   "metadata": {},
   "outputs": [
    {
     "name": "stdout",
     "output_type": "stream",
     "text": [
      "Initial shape: (535178, 10)\n"
     ]
    },
    {
     "data": {
      "text/html": [
       "<div>\n",
       "<style scoped>\n",
       "    .dataframe tbody tr th:only-of-type {\n",
       "        vertical-align: middle;\n",
       "    }\n",
       "\n",
       "    .dataframe tbody tr th {\n",
       "        vertical-align: top;\n",
       "    }\n",
       "\n",
       "    .dataframe thead th {\n",
       "        text-align: right;\n",
       "    }\n",
       "</style>\n",
       "<table border=\"1\" class=\"dataframe\">\n",
       "  <thead>\n",
       "    <tr style=\"text-align: right;\">\n",
       "      <th></th>\n",
       "      <th>step</th>\n",
       "      <th>customer</th>\n",
       "      <th>age</th>\n",
       "      <th>gender</th>\n",
       "      <th>zipcodeOri</th>\n",
       "      <th>merchant</th>\n",
       "      <th>zipMerchant</th>\n",
       "      <th>category</th>\n",
       "      <th>amount</th>\n",
       "      <th>fraud</th>\n",
       "    </tr>\n",
       "  </thead>\n",
       "  <tbody>\n",
       "    <tr>\n",
       "      <th>0</th>\n",
       "      <td>11</td>\n",
       "      <td>'C1760492708'</td>\n",
       "      <td>'1'</td>\n",
       "      <td>'F'</td>\n",
       "      <td>'28007'</td>\n",
       "      <td>'M1823072687'</td>\n",
       "      <td>'28007'</td>\n",
       "      <td>'es_transportation'</td>\n",
       "      <td>52.35</td>\n",
       "      <td>0</td>\n",
       "    </tr>\n",
       "    <tr>\n",
       "      <th>1</th>\n",
       "      <td>172</td>\n",
       "      <td>'C1222389110'</td>\n",
       "      <td>'3'</td>\n",
       "      <td>'M'</td>\n",
       "      <td>'28007'</td>\n",
       "      <td>'M1823072687'</td>\n",
       "      <td>'28007'</td>\n",
       "      <td>'es_transportation'</td>\n",
       "      <td>14.75</td>\n",
       "      <td>0</td>\n",
       "    </tr>\n",
       "    <tr>\n",
       "      <th>2</th>\n",
       "      <td>106</td>\n",
       "      <td>'C879949041'</td>\n",
       "      <td>'3'</td>\n",
       "      <td>'F'</td>\n",
       "      <td>'28007'</td>\n",
       "      <td>'M1823072687'</td>\n",
       "      <td>'28007'</td>\n",
       "      <td>'es_transportation'</td>\n",
       "      <td>3.73</td>\n",
       "      <td>0</td>\n",
       "    </tr>\n",
       "    <tr>\n",
       "      <th>3</th>\n",
       "      <td>86</td>\n",
       "      <td>'C409740988'</td>\n",
       "      <td>'5'</td>\n",
       "      <td>'M'</td>\n",
       "      <td>'28007'</td>\n",
       "      <td>'M1823072687'</td>\n",
       "      <td>'28007'</td>\n",
       "      <td>'es_transportation'</td>\n",
       "      <td>61.42</td>\n",
       "      <td>0</td>\n",
       "    </tr>\n",
       "    <tr>\n",
       "      <th>4</th>\n",
       "      <td>152</td>\n",
       "      <td>'C671449181'</td>\n",
       "      <td>'3'</td>\n",
       "      <td>'F'</td>\n",
       "      <td>'28007'</td>\n",
       "      <td>'M692898500'</td>\n",
       "      <td>'28007'</td>\n",
       "      <td>'es_health'</td>\n",
       "      <td>9.05</td>\n",
       "      <td>0</td>\n",
       "    </tr>\n",
       "  </tbody>\n",
       "</table>\n",
       "</div>"
      ],
      "text/plain": [
       "   step       customer  age gender zipcodeOri       merchant zipMerchant  \\\n",
       "0    11  'C1760492708'  '1'    'F'    '28007'  'M1823072687'     '28007'   \n",
       "1   172  'C1222389110'  '3'    'M'    '28007'  'M1823072687'     '28007'   \n",
       "2   106   'C879949041'  '3'    'F'    '28007'  'M1823072687'     '28007'   \n",
       "3    86   'C409740988'  '5'    'M'    '28007'  'M1823072687'     '28007'   \n",
       "4   152   'C671449181'  '3'    'F'    '28007'   'M692898500'     '28007'   \n",
       "\n",
       "              category  amount  fraud  \n",
       "0  'es_transportation'   52.35      0  \n",
       "1  'es_transportation'   14.75      0  \n",
       "2  'es_transportation'    3.73      0  \n",
       "3  'es_transportation'   61.42      0  \n",
       "4          'es_health'    9.05      0  "
      ]
     },
     "execution_count": 2,
     "metadata": {},
     "output_type": "execute_result"
    }
   ],
   "source": [
    "df = pd.read_csv('Dataset.csv')\n",
    "print('Initial shape:', df.shape)\n",
    "df.head()"
   ]
  },
  {
   "cell_type": "markdown",
   "id": "6473ca66",
   "metadata": {},
   "source": [
    "## 2. Data Cleaning & Preprocessing"
   ]
  },
  {
   "cell_type": "code",
   "execution_count": null,
   "id": "6adbdbab",
   "metadata": {
    "vscode": {
     "languageId": "ruby"
    }
   },
   "outputs": [
    {
     "name": "stderr",
     "output_type": "stream",
     "text": [
      "c:\\Users\\gudde\\AppData\\Local\\Programs\\Python\\Python311\\Lib\\site-packages\\numpy\\lib\\nanfunctions.py:1215: RuntimeWarning: Mean of empty slice\n",
      "  return np.nanmean(a, axis, out=out, keepdims=keepdims)\n"
     ]
    }
   ],
   "source": [
    "# Clean columns\n",
    "df.columns = df.columns.str.strip()\n",
    "# Drop columns only if they exist to avoid KeyError\n",
    "for col in ['zipcodeOri', 'zipMerchant', 'customer']:\n",
    "    if col in df.columns:\n",
    "        df.drop(col, axis=1, inplace=True)\n",
    "\n",
    "# Fill missing values\n",
    "df['gender'] = df['gender'].replace(['E', 'U'], np.nan)\n",
    "df['gender'] = df['gender'].map({'M': 1, 'F': 0})\n",
    "gender_mode = df['gender'].mode()[0] if not df['gender'].mode().empty else 1\n",
    "df['gender'] = df['gender'].fillna(gender_mode)\n",
    "\n",
    "for col in ['step', 'age', 'amount']:\n",
    "    df[col] = pd.to_numeric(df[col], errors='coerce')\n",
    "    median = df[col].median()\n",
    "    df[col] = df[col].fillna(median)\n",
    "\n",
    "df['merchant'] = df['merchant'].fillna('unknown')\n",
    "df['category'] = df['category'].fillna('unknown')"
   ]
  },
  {
   "cell_type": "markdown",
   "id": "706da543",
   "metadata": {},
   "source": [
    "### Class Distribution"
   ]
  },
  {
   "cell_type": "code",
   "execution_count": 7,
   "id": "7ebb2991",
   "metadata": {},
   "outputs": [
    {
     "data": {
      "image/png": "[encoded data removed]",
      "text/plain": [
       "<Figure size 500x300 with 1 Axes>"
      ]
     },
     "metadata": {},
     "output_type": "display_data"
    }
   ],
   "source": [
    "plt.figure(figsize=(5,3))\n",
    "sns.countplot(x='fraud', data=df)\n",
    "plt.title('Class Distribution (fraud)')\n",
    "plt.show()"
   ]
  },
  {
   "cell_type": "markdown",
   "id": "41bd93f9",
   "metadata": {},
   "source": [
    "## 3. One-hot Encoding"
   ]
  },
  {
   "cell_type": "code",
   "execution_count": 8,
   "id": "42ab3751",
   "metadata": {},
   "outputs": [
    {
     "data": {
      "text/html": [
       "<div>\n",
       "<style scoped>\n",
       "    .dataframe tbody tr th:only-of-type {\n",
       "        vertical-align: middle;\n",
       "    }\n",
       "\n",
       "    .dataframe tbody tr th {\n",
       "        vertical-align: top;\n",
       "    }\n",
       "\n",
       "    .dataframe thead th {\n",
       "        text-align: right;\n",
       "    }\n",
       "</style>\n",
       "<table border=\"1\" class=\"dataframe\">\n",
       "  <thead>\n",
       "    <tr style=\"text-align: right;\">\n",
       "      <th></th>\n",
       "      <th>step</th>\n",
       "      <th>age</th>\n",
       "      <th>gender</th>\n",
       "      <th>amount</th>\n",
       "      <th>fraud</th>\n",
       "      <th>merchant_'M117188757'</th>\n",
       "      <th>merchant_'M1198415165'</th>\n",
       "      <th>merchant_'M1294758098'</th>\n",
       "      <th>merchant_'M1313686961'</th>\n",
       "      <th>merchant_'M1352454843'</th>\n",
       "      <th>...</th>\n",
       "      <th>category_'es_home'</th>\n",
       "      <th>category_'es_hotelservices'</th>\n",
       "      <th>category_'es_hyper'</th>\n",
       "      <th>category_'es_leisure'</th>\n",
       "      <th>category_'es_otherservices'</th>\n",
       "      <th>category_'es_sportsandtoys'</th>\n",
       "      <th>category_'es_tech'</th>\n",
       "      <th>category_'es_transportation'</th>\n",
       "      <th>category_'es_travel'</th>\n",
       "      <th>category_'es_wellnessandbeauty'</th>\n",
       "    </tr>\n",
       "  </thead>\n",
       "  <tbody>\n",
       "    <tr>\n",
       "      <th>0</th>\n",
       "      <td>11</td>\n",
       "      <td>NaN</td>\n",
       "      <td>1.0</td>\n",
       "      <td>52.35</td>\n",
       "      <td>0</td>\n",
       "      <td>False</td>\n",
       "      <td>False</td>\n",
       "      <td>False</td>\n",
       "      <td>False</td>\n",
       "      <td>False</td>\n",
       "      <td>...</td>\n",
       "      <td>False</td>\n",
       "      <td>False</td>\n",
       "      <td>False</td>\n",
       "      <td>False</td>\n",
       "      <td>False</td>\n",
       "      <td>False</td>\n",
       "      <td>False</td>\n",
       "      <td>True</td>\n",
       "      <td>False</td>\n",
       "      <td>False</td>\n",
       "    </tr>\n",
       "    <tr>\n",
       "      <th>1</th>\n",
       "      <td>172</td>\n",
       "      <td>NaN</td>\n",
       "      <td>1.0</td>\n",
       "      <td>14.75</td>\n",
       "      <td>0</td>\n",
       "      <td>False</td>\n",
       "      <td>False</td>\n",
       "      <td>False</td>\n",
       "      <td>False</td>\n",
       "      <td>False</td>\n",
       "      <td>...</td>\n",
       "      <td>False</td>\n",
       "      <td>False</td>\n",
       "      <td>False</td>\n",
       "      <td>False</td>\n",
       "      <td>False</td>\n",
       "      <td>False</td>\n",
       "      <td>False</td>\n",
       "      <td>True</td>\n",
       "      <td>False</td>\n",
       "      <td>False</td>\n",
       "    </tr>\n",
       "    <tr>\n",
       "      <th>2</th>\n",
       "      <td>106</td>\n",
       "      <td>NaN</td>\n",
       "      <td>1.0</td>\n",
       "      <td>3.73</td>\n",
       "      <td>0</td>\n",
       "      <td>False</td>\n",
       "      <td>False</td>\n",
       "      <td>False</td>\n",
       "      <td>False</td>\n",
       "      <td>False</td>\n",
       "      <td>...</td>\n",
       "      <td>False</td>\n",
       "      <td>False</td>\n",
       "      <td>False</td>\n",
       "      <td>False</td>\n",
       "      <td>False</td>\n",
       "      <td>False</td>\n",
       "      <td>False</td>\n",
       "      <td>True</td>\n",
       "      <td>False</td>\n",
       "      <td>False</td>\n",
       "    </tr>\n",
       "    <tr>\n",
       "      <th>3</th>\n",
       "      <td>86</td>\n",
       "      <td>NaN</td>\n",
       "      <td>1.0</td>\n",
       "      <td>61.42</td>\n",
       "      <td>0</td>\n",
       "      <td>False</td>\n",
       "      <td>False</td>\n",
       "      <td>False</td>\n",
       "      <td>False</td>\n",
       "      <td>False</td>\n",
       "      <td>...</td>\n",
       "      <td>False</td>\n",
       "      <td>False</td>\n",
       "      <td>False</td>\n",
       "      <td>False</td>\n",
       "      <td>False</td>\n",
       "      <td>False</td>\n",
       "      <td>False</td>\n",
       "      <td>True</td>\n",
       "      <td>False</td>\n",
       "      <td>False</td>\n",
       "    </tr>\n",
       "    <tr>\n",
       "      <th>4</th>\n",
       "      <td>152</td>\n",
       "      <td>NaN</td>\n",
       "      <td>1.0</td>\n",
       "      <td>9.05</td>\n",
       "      <td>0</td>\n",
       "      <td>False</td>\n",
       "      <td>False</td>\n",
       "      <td>False</td>\n",
       "      <td>False</td>\n",
       "      <td>False</td>\n",
       "      <td>...</td>\n",
       "      <td>False</td>\n",
       "      <td>False</td>\n",
       "      <td>False</td>\n",
       "      <td>False</td>\n",
       "      <td>False</td>\n",
       "      <td>False</td>\n",
       "      <td>False</td>\n",
       "      <td>False</td>\n",
       "      <td>False</td>\n",
       "      <td>False</td>\n",
       "    </tr>\n",
       "  </tbody>\n",
       "</table>\n",
       "<p>5 rows × 68 columns</p>\n",
       "</div>"
      ],
      "text/plain": [
       "   step  age  gender  amount  fraud  merchant_'M117188757'  \\\n",
       "0    11  NaN     1.0   52.35      0                  False   \n",
       "1   172  NaN     1.0   14.75      0                  False   \n",
       "2   106  NaN     1.0    3.73      0                  False   \n",
       "3    86  NaN     1.0   61.42      0                  False   \n",
       "4   152  NaN     1.0    9.05      0                  False   \n",
       "\n",
       "   merchant_'M1198415165'  merchant_'M1294758098'  merchant_'M1313686961'  \\\n",
       "0                   False                   False                   False   \n",
       "1                   False                   False                   False   \n",
       "2                   False                   False                   False   \n",
       "3                   False                   False                   False   \n",
       "4                   False                   False                   False   \n",
       "\n",
       "   merchant_'M1352454843'  ...  category_'es_home'  \\\n",
       "0                   False  ...               False   \n",
       "1                   False  ...               False   \n",
       "2                   False  ...               False   \n",
       "3                   False  ...               False   \n",
       "4                   False  ...               False   \n",
       "\n",
       "   category_'es_hotelservices'  category_'es_hyper'  category_'es_leisure'  \\\n",
       "0                        False                False                  False   \n",
       "1                        False                False                  False   \n",
       "2                        False                False                  False   \n",
       "3                        False                False                  False   \n",
       "4                        False                False                  False   \n",
       "\n",
       "   category_'es_otherservices'  category_'es_sportsandtoys'  \\\n",
       "0                        False                        False   \n",
       "1                        False                        False   \n",
       "2                        False                        False   \n",
       "3                        False                        False   \n",
       "4                        False                        False   \n",
       "\n",
       "   category_'es_tech'  category_'es_transportation'  category_'es_travel'  \\\n",
       "0               False                          True                 False   \n",
       "1               False                          True                 False   \n",
       "2               False                          True                 False   \n",
       "3               False                          True                 False   \n",
       "4               False                         False                 False   \n",
       "\n",
       "   category_'es_wellnessandbeauty'  \n",
       "0                            False  \n",
       "1                            False  \n",
       "2                            False  \n",
       "3                            False  \n",
       "4                            False  \n",
       "\n",
       "[5 rows x 68 columns]"
      ]
     },
     "execution_count": 8,
     "metadata": {},
     "output_type": "execute_result"
    }
   ],
   "source": [
    "df = pd.get_dummies(df, columns=['merchant', 'category'], drop_first=True)\n",
    "df.head()"
   ]
  },
  {
   "cell_type": "markdown",
   "id": "7902924f",
   "metadata": {},
   "source": [
    "## 4. Train/Test Split"
   ]
  },
  {
   "cell_type": "code",
   "execution_count": 9,
   "id": "3f07ced0",
   "metadata": {},
   "outputs": [
    {
     "name": "stdout",
     "output_type": "stream",
     "text": [
      "Train shape: (428142, 67) Test shape: (107036, 67)\n"
     ]
    }
   ],
   "source": [
    "X = df.drop('fraud', axis=1)\n",
    "y = df['fraud']\n",
    "X_train, X_test, y_train, y_test = train_test_split(X, y, test_size=0.2, random_state=42)\n",
    "print('Train shape:', X_train.shape, 'Test shape:', X_test.shape)"
   ]
  },
  {
   "cell_type": "markdown",
   "id": "9e399d32",
   "metadata": {},
   "source": [
    "## 5. Train Random Forest Model"
   ]
  },
  {
   "cell_type": "code",
   "execution_count": 10,
   "id": "73a06212",
   "metadata": {},
   "outputs": [
    {
     "name": "stdout",
     "output_type": "stream",
     "text": [
      "              precision    recall  f1-score   support\n",
      "\n",
      "           0       1.00      1.00      1.00    105723\n",
      "           1       0.86      0.77      0.81      1313\n",
      "\n",
      "    accuracy                           1.00    107036\n",
      "   macro avg       0.93      0.89      0.91    107036\n",
      "weighted avg       1.00      1.00      1.00    107036\n",
      "\n"
     ]
    }
   ],
   "source": [
    "rf = RandomForestClassifier(n_estimators=100, random_state=42)\n",
    "rf.fit(X_train, y_train)\n",
    "y_pred = rf.predict(X_test)\n",
    "print(classification_report(y_test, y_pred))"
   ]
  },
  {
   "cell_type": "markdown",
   "id": "be27945b",
   "metadata": {},
   "source": [
    "## 6. Feature Importance"
   ]
  },
  {
   "cell_type": "code",
   "execution_count": 11,
   "id": "2ded9c5a",
   "metadata": {},
   "outputs": [
    {
     "data": {
      "text/html": [
       "<div>\n",
       "<style scoped>\n",
       "    .dataframe tbody tr th:only-of-type {\n",
       "        vertical-align: middle;\n",
       "    }\n",
       "\n",
       "    .dataframe tbody tr th {\n",
       "        vertical-align: top;\n",
       "    }\n",
       "\n",
       "    .dataframe thead th {\n",
       "        text-align: right;\n",
       "    }\n",
       "</style>\n",
       "<table border=\"1\" class=\"dataframe\">\n",
       "  <thead>\n",
       "    <tr style=\"text-align: right;\">\n",
       "      <th></th>\n",
       "      <th>feature</th>\n",
       "      <th>importance</th>\n",
       "    </tr>\n",
       "  </thead>\n",
       "  <tbody>\n",
       "    <tr>\n",
       "      <th>3</th>\n",
       "      <td>amount</td>\n",
       "      <td>0.519953</td>\n",
       "    </tr>\n",
       "    <tr>\n",
       "      <th>0</th>\n",
       "      <td>step</td>\n",
       "      <td>0.106132</td>\n",
       "    </tr>\n",
       "    <tr>\n",
       "      <th>52</th>\n",
       "      <td>merchant_'M980657600'</td>\n",
       "      <td>0.064010</td>\n",
       "    </tr>\n",
       "    <tr>\n",
       "      <th>37</th>\n",
       "      <td>merchant_'M480139044'</td>\n",
       "      <td>0.059802</td>\n",
       "    </tr>\n",
       "    <tr>\n",
       "      <th>62</th>\n",
       "      <td>category_'es_sportsandtoys'</td>\n",
       "      <td>0.049785</td>\n",
       "    </tr>\n",
       "    <tr>\n",
       "      <th>60</th>\n",
       "      <td>category_'es_leisure'</td>\n",
       "      <td>0.024428</td>\n",
       "    </tr>\n",
       "    <tr>\n",
       "      <th>65</th>\n",
       "      <td>category_'es_travel'</td>\n",
       "      <td>0.022697</td>\n",
       "    </tr>\n",
       "    <tr>\n",
       "      <th>43</th>\n",
       "      <td>merchant_'M732195782'</td>\n",
       "      <td>0.013547</td>\n",
       "    </tr>\n",
       "    <tr>\n",
       "      <th>56</th>\n",
       "      <td>category_'es_health'</td>\n",
       "      <td>0.013041</td>\n",
       "    </tr>\n",
       "    <tr>\n",
       "      <th>24</th>\n",
       "      <td>merchant_'M1873032707'</td>\n",
       "      <td>0.011660</td>\n",
       "    </tr>\n",
       "  </tbody>\n",
       "</table>\n",
       "</div>"
      ],
      "text/plain": [
       "                        feature  importance\n",
       "3                        amount    0.519953\n",
       "0                          step    0.106132\n",
       "52        merchant_'M980657600'    0.064010\n",
       "37        merchant_'M480139044'    0.059802\n",
       "62  category_'es_sportsandtoys'    0.049785\n",
       "60        category_'es_leisure'    0.024428\n",
       "65         category_'es_travel'    0.022697\n",
       "43        merchant_'M732195782'    0.013547\n",
       "56         category_'es_health'    0.013041\n",
       "24       merchant_'M1873032707'    0.011660"
      ]
     },
     "execution_count": 11,
     "metadata": {},
     "output_type": "execute_result"
    }
   ],
   "source": [
    "importances = rf.feature_importances_\n",
    "feature_names = X.columns\n",
    "importance_df = pd.DataFrame({'feature': feature_names, 'importance': importances})\n",
    "importance_df = importance_df.sort_values(by='importance', ascending=False)\n",
    "importance_df.head(10)"
   ]
  },
  {
   "cell_type": "code",
   "execution_count": 12,
   "id": "70d5583d",
   "metadata": {},
   "outputs": [
    {
     "data": {
      "image/png": "[encoded data removed]",
      "text/plain": [
       "<Figure size 1000x500 with 1 Axes>"
      ]
     },
     "metadata": {},
     "output_type": "display_data"
    }
   ],
   "source": [
    "# Plot feature importances\n",
    "plt.figure(figsize=(10,5))\n",
    "sns.barplot(x='importance', y='feature', data=importance_df.head(15))\n",
    "plt.title('Top 15 Feature Importances')\n",
    "plt.tight_layout()\n",
    "plt.show()"
   ]
  },
  {
   "cell_type": "markdown",
   "id": "b95f8c41",
   "metadata": {},
   "source": [
    "## 7. Select Important Features and Retrain"
   ]
  },
  {
   "cell_type": "code",
   "execution_count": 13,
   "id": "c32642e1",
   "metadata": {},
   "outputs": [
    {
     "name": "stdout",
     "output_type": "stream",
     "text": [
      "Selected features: ['amount', 'step', \"merchant_'M980657600'\", \"merchant_'M480139044'\", \"category_'es_sportsandtoys'\", \"category_'es_leisure'\", \"category_'es_travel'\", \"merchant_'M732195782'\", \"category_'es_health'\", \"merchant_'M1873032707'\", \"category_'es_transportation'\"]\n",
      "              precision    recall  f1-score   support\n",
      "\n",
      "           0       1.00      1.00      1.00    105723\n",
      "           1       0.83      0.72      0.77      1313\n",
      "\n",
      "    accuracy                           0.99    107036\n",
      "   macro avg       0.91      0.86      0.88    107036\n",
      "weighted avg       0.99      0.99      0.99    107036\n",
      "\n"
     ]
    }
   ],
   "source": [
    "# Keep features with >1% importance, or all if all are important\n",
    "threshold = 0.01\n",
    "selected_features = importance_df[importance_df['importance'] > threshold]['feature'].tolist()\n",
    "if len(selected_features) == 0:\n",
    "    selected_features = feature_names.tolist()\n",
    "print('Selected features:', selected_features)\n",
    "\n",
    "X_selected = X[selected_features]\n",
    "X_train_sel, X_test_sel, y_train_sel, y_test_sel = train_test_split(X_selected, y, test_size=0.2, random_state=42)\n",
    "model = RandomForestClassifier(n_estimators=100, random_state=42)\n",
    "model.fit(X_train_sel, y_train_sel)\n",
    "print(classification_report(y_test_sel, model.predict(X_test_sel)))"
   ]
  },
  {
   "cell_type": "markdown",
   "id": "28f592c4",
   "metadata": {},
   "source": [
    "## 8. Save Model and Feature Columns"
   ]
  },
  {
   "cell_type": "code",
   "execution_count": 14,
   "id": "1f018b0b",
   "metadata": {},
   "outputs": [
    {
     "name": "stdout",
     "output_type": "stream",
     "text": [
      "Model and feature columns saved!\n"
     ]
    }
   ],
   "source": [
    "os.makedirs('model', exist_ok=True)\n",
    "with open('model/fraud_model.pkl', 'wb') as f:\n",
    "    pickle.dump(model, f)\n",
    "with open('model/feature_columns.pkl', 'wb') as f:\n",
    "    pickle.dump(selected_features, f)\n",
    "print('Model and feature columns saved!')"
   ]
  },
  {
   "cell_type": "markdown",
   "id": "ba9d3a21",
   "metadata": {},
   "source": [
    "## 9. Test the model on a new test dataset"
   ]
  },
  {
   "cell_type": "code",
   "execution_count": null,
   "id": "4eb6e570",
   "metadata": {},
   "outputs": [],
   "source": [
    "test_df = pd.read_csv('TestDataset.csv')  # Change filename as needed\n",
    "\n",
    "# --- Preprocess test data as before ---\n",
    "test_df.columns = test_df.columns.str.strip()\n",
    "for col in ['zipcodeOri', 'zipMerchant', 'customer']:\n",
    "    if col in test_df.columns:\n",
    "        test_df.drop(col, axis=1, inplace=True)\n",
    "test_df['gender'] = test_df['gender'].replace(['E', 'U'], np.nan)\n",
    "test_df['gender'] = test_df['gender'].map({'M': 1, 'F': 0})\n",
    "gender_mode = test_df['gender'].mode()[0] if not test_df['gender'].mode().empty else 1\n",
    "test_df['gender'] = test_df['gender'].fillna(gender_mode)\n",
    "for col in ['step', 'age', 'amount']:\n",
    "    test_df[col] = pd.to_numeric(test_df[col], errors='coerce')\n",
    "    median = test_df[col].median()\n",
    "    test_df[col] = test_df[col].fillna(median)\n",
    "test_df['merchant'] = test_df['merchant'].fillna('unknown')\n",
    "test_df['category'] = test_df['category'].fillna('unknown')\n",
    "test_df = pd.get_dummies(test_df, columns=['merchant', 'category'], drop_first=True)\n",
    "\n",
    "# --- Align columns to model features ---\n",
    "with open('model/feature_columns.pkl', 'rb') as f:\n",
    "    feature_columns = pickle.load(f)\n",
    "for col in feature_columns:\n",
    "    if col not in test_df.columns:\n",
    "        test_df[col] = 0\n",
    "test_X = test_df[feature_columns]\n",
    "\n",
    "# --- Load model and predict ---\n",
    "with open('model/fraud_model.pkl', 'rb') as f:\n",
    "    model = pickle.load(f)\n",
    "test_preds = model.predict(test_X)\n",
    "\n",
    "# If ground truth is available in test set:\n",
    "if 'fraud' in test_df.columns:\n",
    "    print(classification_report(test_df['fraud'], test_preds))\n",
    "\n",
    "# Otherwise, just output predictions:\n",
    "print('Predictions:', test_preds[:10])  # Show first 10 predictions"
   ]
  }
 ],
 "metadata": {
  "kernelspec": {
   "display_name": "Python 3",
   "language": "python",
   "name": "python3"
  },
  "language_info": {
   "codemirror_mode": {
    "name": "ipython",
    "version": 3
   },
   "file_extension": ".py",
   "mimetype": "text/x-python",
   "name": "python",
   "nbconvert_exporter": "python",
   "pygments_lexer": "ipython3",
   "version": "3.11.5"
  }
 },
 "nbformat": 4,
 "nbformat_minor": 5
}
